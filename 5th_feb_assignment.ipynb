{
 "cells": [
  {
   "cell_type": "markdown",
   "id": "059b836b-5c70-4d16-a8fc-28a0a13202c5",
   "metadata": {},
   "source": [
    "## Q1"
   ]
  },
  {
   "cell_type": "markdown",
   "id": "a33d1e5f-dfc3-414c-ae9d-322657336dfe",
   "metadata": {},
   "source": [
    "Class is the blueprint or skeleton code which can tell us about the class type but it cannot work on it's own.Classs work as a boiler plate code it cannot be used untill we initialize it with an object to use it's functionality. In python we use class keyword to create a class of different type. we can create multiple objects from the same class by adding different values for the properties inside it. For example we can create a class car\n",
    "but we can specify different build and car models to create different objects out of a class."
   ]
  },
  {
   "cell_type": "code",
   "execution_count": 1,
   "id": "c05e07c7-aa40-4ac6-9c35-d7d605964492",
   "metadata": {},
   "outputs": [],
   "source": [
    "class car:\n",
    "    def __init__(self,model,year,brand):\n",
    "        self.model=model\n",
    "        self.year=year\n",
    "        self.brand=brand\n",
    "    def returnCarObject(self):\n",
    "        return self.model,self.year,self.brand"
   ]
  },
  {
   "cell_type": "code",
   "execution_count": 2,
   "id": "26aa4f0e-20f8-462a-8815-67b8d643b996",
   "metadata": {},
   "outputs": [],
   "source": [
    "honda=car('city',2022,'honda')\n",
    "mercedes=car('sclass',2022,'mercedes')"
   ]
  },
  {
   "cell_type": "code",
   "execution_count": 3,
   "id": "de668260-a351-457a-aaaa-c2c4970b97ce",
   "metadata": {},
   "outputs": [
    {
     "data": {
      "text/plain": [
       "('city', 2022, 'honda')"
      ]
     },
     "execution_count": 3,
     "metadata": {},
     "output_type": "execute_result"
    }
   ],
   "source": [
    "honda.returnCarObject()"
   ]
  },
  {
   "cell_type": "code",
   "execution_count": 4,
   "id": "bf7ae101-e25b-433f-9286-e0e71ba2dcdd",
   "metadata": {},
   "outputs": [
    {
     "data": {
      "text/plain": [
       "('sclass', 2022, 'mercedes')"
      ]
     },
     "execution_count": 4,
     "metadata": {},
     "output_type": "execute_result"
    }
   ],
   "source": [
    "mercedes.returnCarObject()"
   ]
  },
  {
   "cell_type": "markdown",
   "id": "71c4bcac-75df-45d5-8046-b6a8e9df0ccf",
   "metadata": {},
   "source": [
    "## Q2"
   ]
  },
  {
   "cell_type": "markdown",
   "id": "1a41a2ae-c0ec-4ccd-ad53-a8dea7c2cd81",
   "metadata": {},
   "source": [
    "The four pillars of the oops is inheritance,polymorphism,abstraction and encapsulation.\n",
    "1) Encapsulation:- It is the technique of enclosing a instance inside a method or class so that user cannot access it and change it.\n",
    "2) inheritance:- It is the technique of inheriting from base or parent class to your child class. It can use all the functionalities of base class without again writing it in child class.\n",
    "3) abstraction:- abstraction hides the internal implementations of a process or method from the user. In this way, the user knows what they do but not how it is done\n",
    "4) polymorphism:-  polymorphism refers to the use of a single method/operator to represent different types in different scenarios."
   ]
  },
  {
   "cell_type": "code",
   "execution_count": 13,
   "id": "2eea293c-5079-4199-a164-fb3fe76b7e86",
   "metadata": {},
   "outputs": [],
   "source": [
    "## Encapsulation Code\n",
    "\n",
    "class AccountBalance:\n",
    "    def __init__(self,name,balance):\n",
    "        self.name= name\n",
    "        self.__balance= balance\n",
    "    def showBalance(self):\n",
    "        return self.__balance"
   ]
  },
  {
   "cell_type": "code",
   "execution_count": 14,
   "id": "39999dbf-86ca-467a-9540-d2b5fba2ec45",
   "metadata": {},
   "outputs": [],
   "source": [
    "sid= AccountBalance('siddharth',10000)"
   ]
  },
  {
   "cell_type": "code",
   "execution_count": 15,
   "id": "606e3743-5e81-4bc8-88ef-709171e0f50c",
   "metadata": {},
   "outputs": [
    {
     "data": {
      "text/plain": [
       "10000"
      ]
     },
     "execution_count": 15,
     "metadata": {},
     "output_type": "execute_result"
    }
   ],
   "source": [
    "sid.showBalance()"
   ]
  },
  {
   "cell_type": "code",
   "execution_count": 16,
   "id": "1eeb2029-0258-47e3-b833-4b8ead296e2d",
   "metadata": {},
   "outputs": [],
   "source": [
    "sid.balance=2000"
   ]
  },
  {
   "cell_type": "code",
   "execution_count": 18,
   "id": "38f17299-bb4b-4a47-909a-d0f3fb20b123",
   "metadata": {},
   "outputs": [
    {
     "data": {
      "text/plain": [
       "10000"
      ]
     },
     "execution_count": 18,
     "metadata": {},
     "output_type": "execute_result"
    }
   ],
   "source": [
    "sid.showBalance()"
   ]
  },
  {
   "cell_type": "markdown",
   "id": "884e6799-cfde-4494-835b-ae5394d786fe",
   "metadata": {},
   "source": [
    "## Q3"
   ]
  },
  {
   "cell_type": "markdown",
   "id": "e40a7ef4-1559-4226-aa30-ce85ad5d1a9b",
   "metadata": {},
   "source": [
    "__init__ is used as a constructor in python. It is used to initialize the object with different parameters."
   ]
  },
  {
   "cell_type": "code",
   "execution_count": 22,
   "id": "7391e68d-fdd5-450c-bb8b-31ca70d48198",
   "metadata": {},
   "outputs": [],
   "source": [
    "## Example\n",
    "class animals:\n",
    "    \n",
    "    def __init__(self,typ,sound):\n",
    "        self.typ=  typ\n",
    "        self.sound = sound\n",
    "    \n",
    "    def speak(self):\n",
    "        print(self.sound)"
   ]
  },
  {
   "cell_type": "code",
   "execution_count": 23,
   "id": "7eb9bde7-21ab-4b3b-9037-257d402c19d3",
   "metadata": {},
   "outputs": [
    {
     "name": "stdout",
     "output_type": "stream",
     "text": [
      "meow meow\n"
     ]
    }
   ],
   "source": [
    "cat = animals('cat','meow meow')\n",
    "cat.speak()"
   ]
  },
  {
   "cell_type": "markdown",
   "id": "1473a84a-cd90-4a84-bc53-ad1f5846c56f",
   "metadata": {},
   "source": [
    "## Q4"
   ]
  },
  {
   "cell_type": "markdown",
   "id": "02f7ee97-ca3a-4050-9661-8eecdad53b68",
   "metadata": {},
   "source": [
    "self is used to bind the methods to it's class. It binds the attributes with the given arguments. Self is not a reserved keyword we can use any keyword of our choice instead of self. However it is best practice to use self while writing the class."
   ]
  },
  {
   "cell_type": "markdown",
   "id": "9ace8dc8-5adb-4f7d-89a9-abac90028be8",
   "metadata": {},
   "source": [
    "## Q5"
   ]
  },
  {
   "cell_type": "markdown",
   "id": "cf1a506d-918e-4be4-9eab-b2453a331e2e",
   "metadata": {},
   "source": [
    "inheritance:- It is the technique of inheriting from base or parent class to your child class. It can use all the functionalities of base class without again writing it in child class.There are 5 types of inheritance Single Inheritance,Multiple Inheritance,Multilevel Inheritance,Hierarchical Inheritance,Hybrid Inheritance."
   ]
  },
  {
   "cell_type": "code",
   "execution_count": 26,
   "id": "4b91d2c5-8417-4c7e-85b9-70049d25fae2",
   "metadata": {},
   "outputs": [],
   "source": [
    "class school:\n",
    "    def __init__(self,teacher):\n",
    "        self.teacher=teacher\n",
    "    def showTeacher(self):\n",
    "        return self.teacher\n",
    "    \n",
    "class student(school):\n",
    "    def __init__(self,teacher,student):\n",
    "        super().__init__(teacher)\n",
    "        self.student=student\n",
    "    \n",
    "    def showStudentTeacher(self):\n",
    "        return self.teacher,self.student"
   ]
  },
  {
   "cell_type": "code",
   "execution_count": 27,
   "id": "db6205a7-f4d7-4f1f-9323-d089bef2b349",
   "metadata": {},
   "outputs": [],
   "source": [
    "n = student('Mr. Adam','charlie')"
   ]
  },
  {
   "cell_type": "code",
   "execution_count": 28,
   "id": "6c7db834-f98f-4568-9a6f-4fe61e05a9bd",
   "metadata": {},
   "outputs": [
    {
     "data": {
      "text/plain": [
       "('Mr. Adam', 'charlie')"
      ]
     },
     "execution_count": 28,
     "metadata": {},
     "output_type": "execute_result"
    }
   ],
   "source": [
    "n.showStudentTeacher()"
   ]
  }
 ],
 "metadata": {
  "kernelspec": {
   "display_name": "Python 3 (ipykernel)",
   "language": "python",
   "name": "python3"
  },
  "language_info": {
   "codemirror_mode": {
    "name": "ipython",
    "version": 3
   },
   "file_extension": ".py",
   "mimetype": "text/x-python",
   "name": "python",
   "nbconvert_exporter": "python",
   "pygments_lexer": "ipython3",
   "version": "3.10.8"
  }
 },
 "nbformat": 4,
 "nbformat_minor": 5
}
